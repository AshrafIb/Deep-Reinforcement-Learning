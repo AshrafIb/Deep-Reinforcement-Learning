{
 "cells": [
  {
   "cell_type": "markdown",
   "metadata": {},
   "source": [
    "# Continuous Control\n",
    "\n",
    "---\n",
    "\n",
    "You are welcome to use this coding environment to train your agent for the project.  Follow the instructions below to get started!\n",
    "\n",
    "### 1. Start the Environment\n",
    "\n",
    "Run the next code cell to install a few packages.  This line will take a few minutes to run!"
   ]
  },
  {
   "cell_type": "code",
   "execution_count": 1,
   "metadata": {},
   "outputs": [
    {
     "name": "stdout",
     "output_type": "stream",
     "text": [
      "\u001b[31mtensorflow 1.7.1 has requirement numpy>=1.13.3, but you'll have numpy 1.12.1 which is incompatible.\u001b[0m\r\n",
      "\u001b[31mipython 6.5.0 has requirement prompt-toolkit<2.0.0,>=1.0.15, but you'll have prompt-toolkit 3.0.8 which is incompatible.\u001b[0m\r\n"
     ]
    }
   ],
   "source": [
    "!pip -q install ./python"
   ]
  },
  {
   "cell_type": "markdown",
   "metadata": {},
   "source": [
    "The environments corresponding to both versions of the environment are already saved in the Workspace and can be accessed at the file paths provided below.  \n",
    "\n",
    "Please select one of the two options below for loading the environment."
   ]
  },
  {
   "cell_type": "code",
   "execution_count": 2,
   "metadata": {},
   "outputs": [
    {
     "name": "stderr",
     "output_type": "stream",
     "text": [
      "INFO:unityagents:\n",
      "'Academy' started successfully!\n",
      "Unity Academy name: Academy\n",
      "        Number of Brains: 1\n",
      "        Number of External Brains : 1\n",
      "        Lesson number : 0\n",
      "        Reset Parameters :\n",
      "\t\tgoal_speed -> 1.0\n",
      "\t\tgoal_size -> 5.0\n",
      "Unity brain name: ReacherBrain\n",
      "        Number of Visual Observations (per agent): 0\n",
      "        Vector Observation space type: continuous\n",
      "        Vector Observation space size (per agent): 33\n",
      "        Number of stacked Vector Observation: 1\n",
      "        Vector Action space type: continuous\n",
      "        Vector Action space size (per agent): 4\n",
      "        Vector Action descriptions: , , , \n"
     ]
    }
   ],
   "source": [
    "from unityagents import UnityEnvironment\n",
    "import numpy as np\n",
    "\n",
    "# select this option to load version 1 (with a single agent) of the environment\n",
    "#env = UnityEnvironment(filec_name='/data/Reacher_One_Linux_NoVis/Reacher_One_Linux_NoVis.x86_64')\n",
    "    \n",
    "# select this option to load version 2 (with 20 agents) of the environment\n",
    "env = UnityEnvironment(file_name='/data/Reacher_Linux_NoVis/Reacher.x86_64')"
   ]
  },
  {
   "cell_type": "markdown",
   "metadata": {},
   "source": [
    "Environments contain **_brains_** which are responsible for deciding the actions of their associated agents. Here we check for the first brain available, and set it as the default brain we will be controlling from Python."
   ]
  },
  {
   "cell_type": "code",
   "execution_count": 11,
   "metadata": {},
   "outputs": [],
   "source": [
    "# get the default brain\n",
    "brain_name = env.brain_names[0]\n",
    "brain = env.brains[brain_name]"
   ]
  },
  {
   "cell_type": "markdown",
   "metadata": {},
   "source": [
    "### 2. Examine the State and Action Spaces\n",
    "\n",
    "Run the code cell below to print some information about the environment."
   ]
  },
  {
   "cell_type": "code",
   "execution_count": 4,
   "metadata": {},
   "outputs": [
    {
     "name": "stdout",
     "output_type": "stream",
     "text": [
      "Number of agents: 20\n",
      "Size of each action: 4\n",
      "There are 20 agents. Each observes a state with length: 33\n",
      "The state for the first agent looks like: [  0.00000000e+00  -4.00000000e+00   0.00000000e+00   1.00000000e+00\n",
      "  -0.00000000e+00  -0.00000000e+00  -4.37113883e-08   0.00000000e+00\n",
      "   0.00000000e+00   0.00000000e+00   0.00000000e+00   0.00000000e+00\n",
      "   0.00000000e+00   0.00000000e+00  -1.00000000e+01   0.00000000e+00\n",
      "   1.00000000e+00  -0.00000000e+00  -0.00000000e+00  -4.37113883e-08\n",
      "   0.00000000e+00   0.00000000e+00   0.00000000e+00   0.00000000e+00\n",
      "   0.00000000e+00   0.00000000e+00   5.75471878e+00  -1.00000000e+00\n",
      "   5.55726624e+00   0.00000000e+00   1.00000000e+00   0.00000000e+00\n",
      "  -1.68164849e-01]\n"
     ]
    }
   ],
   "source": [
    "# reset the environment\n",
    "env_info = env.reset(train_mode=True)[brain_name]\n",
    "\n",
    "# number of agents\n",
    "num_agents = len(env_info.agents)\n",
    "print('Number of agents:', num_agents)\n",
    "\n",
    "# size of each action\n",
    "action_size = brain.vector_action_space_size\n",
    "print('Size of each action:', action_size)\n",
    "\n",
    "# examine the state space \n",
    "states = env_info.vector_observations\n",
    "state_size = states.shape[1]\n",
    "print('There are {} agents. Each observes a state with length: {}'.format(states.shape[0], state_size))\n",
    "print('The state for the first agent looks like:', states[0])"
   ]
  },
  {
   "cell_type": "markdown",
   "metadata": {},
   "source": [
    "### 3. Take Random Actions in the Environment\n",
    "\n",
    "In the next code cell, you will learn how to use the Python API to control the agent and receive feedback from the environment.\n",
    "\n",
    "Note that **in this coding environment, you will not be able to watch the agents while they are training**, and you should set `train_mode=True` to restart the environment."
   ]
  },
  {
   "cell_type": "code",
   "execution_count": 5,
   "metadata": {},
   "outputs": [
    {
     "name": "stdout",
     "output_type": "stream",
     "text": [
      "Total score (averaged over agents) this episode: 0.11199999749660491\n"
     ]
    }
   ],
   "source": [
    "env_info = env.reset(train_mode=True)[brain_name]      # reset the environment    \n",
    "states = env_info.vector_observations                  # get the current state (for each agent)\n",
    "scores = np.zeros(num_agents)                          # initialize the score (for each agent)\n",
    "while True:\n",
    "    actions = np.random.randn(num_agents, action_size) # select an action (for each agent)\n",
    "    actions = np.clip(actions, -1, 1)                  # all actions between -1 and 1\n",
    "    env_info = env.step(actions)[brain_name]           # send all actions to tne environment\n",
    "    next_states = env_info.vector_observations         # get next state (for each agent)\n",
    "    rewards = env_info.rewards                         # get reward (for each agent)\n",
    "    dones = env_info.local_done                        # see if episode finished\n",
    "    scores += env_info.rewards                         # update the score (for each agent)\n",
    "    states = next_states                               # roll over states to next time step\n",
    "    if np.any(dones):                                  # exit loop if episode finished\n",
    "        break\n",
    "print('Total score (averaged over agents) this episode: {}'.format(np.mean(scores)))"
   ]
  },
  {
   "cell_type": "markdown",
   "metadata": {},
   "source": [
    "When finished, you can close the environment."
   ]
  },
  {
   "cell_type": "markdown",
   "metadata": {},
   "source": [
    "### 4. It's Your Turn!\n",
    "\n",
    "Now it's your turn to train your own agent to solve the environment!  A few **important notes**:\n",
    "- When training the environment, set `train_mode=True`, so that the line for resetting the environment looks like the following:\n",
    "```python\n",
    "env_info = env.reset(train_mode=True)[brain_name]\n",
    "```\n",
    "- To structure your work, you're welcome to work directly in this Jupyter notebook, or you might like to start over with a new file!  You can see the list of files in the workspace by clicking on **_Jupyter_** in the top left corner of the notebook.\n",
    "- In this coding environment, you will not be able to watch the agents while they are training.  However, **_after training the agents_**, you can download the saved model weights to watch the agents on your own machine! "
   ]
  },
  {
   "cell_type": "markdown",
   "metadata": {},
   "source": [
    "# Importing Modules"
   ]
  },
  {
   "cell_type": "code",
   "execution_count": 2,
   "metadata": {},
   "outputs": [],
   "source": [
    "from unityagents import UnityEnvironment\n",
    "\n",
    "import torch\n",
    "import torch.nn as nn\n",
    "import torch.nn.functional as F\n",
    "import torch.optim as optim\n",
    "\n",
    "from  collections  import deque\n",
    "from itertools import count\n",
    "import torch\n",
    "import time\n",
    "\n",
    "import numpy as np\n",
    "import random\n",
    "import copy\n",
    "from collections import namedtuple, deque\n",
    "\n",
    "import matplotlib.pyplot as plt\n",
    "import seaborn as sns \n",
    "import pandas as pd \n",
    "%matplotlib inline\n",
    "\n",
    "from agent_2 import Agent"
   ]
  },
  {
   "cell_type": "markdown",
   "metadata": {},
   "source": [
    "# Defining Environment and Agent"
   ]
  },
  {
   "cell_type": "code",
   "execution_count": 3,
   "metadata": {},
   "outputs": [
    {
     "name": "stderr",
     "output_type": "stream",
     "text": [
      "INFO:unityagents:\n",
      "'Academy' started successfully!\n",
      "Unity Academy name: Academy\n",
      "        Number of Brains: 1\n",
      "        Number of External Brains : 1\n",
      "        Lesson number : 0\n",
      "        Reset Parameters :\n",
      "\t\tgoal_speed -> 1.0\n",
      "\t\tgoal_size -> 5.0\n",
      "Unity brain name: ReacherBrain\n",
      "        Number of Visual Observations (per agent): 0\n",
      "        Vector Observation space type: continuous\n",
      "        Vector Observation space size (per agent): 33\n",
      "        Number of stacked Vector Observation: 1\n",
      "        Vector Action space type: continuous\n",
      "        Vector Action space size (per agent): 4\n",
      "        Vector Action descriptions: , , , \n"
     ]
    }
   ],
   "source": [
    "env = UnityEnvironment(file_name='/data/Reacher_Linux_NoVis/Reacher.x86_64')\n",
    "\n",
    "brain_name = env.brain_names[0]\n",
    "brain = env.brains[brain_name]\n",
    "\n",
    "env_info = env.reset(train_mode=True)[brain_name]\n",
    "\n",
    "# number of agents\n",
    "num_agents = len(env_info.agents)\n",
    "\n",
    "# size of each action\n",
    "action_size = brain.vector_action_space_size\n",
    "\n",
    "# examine the state space \n",
    "states = env_info.vector_observations\n",
    "state_size = states.shape[1]\n",
    "\n",
    "agent = Agent(state_size=state_size, action_size=action_size, random_seed=8)"
   ]
  },
  {
   "cell_type": "markdown",
   "metadata": {},
   "source": [
    "# Creating Function for Agent"
   ]
  },
  {
   "cell_type": "code",
   "execution_count": 4,
   "metadata": {},
   "outputs": [],
   "source": [
    "def ddpg_agent(n_episodes=1000, max_time=1000, max_len=100):\n",
    "    # create empty score list\n",
    "    scores = []\n",
    "    # initialize deque\n",
    "    scores_deque = deque(maxlen=max_len)\n",
    "    \n",
    "    # Iterate over episodes \n",
    "    for ep in range(1,n_episodes+1):     \n",
    "        # Claculation Timer\n",
    "        if ep==1: \n",
    "            time_start=time.time()\n",
    "            \n",
    "        env_info = env.reset(train_mode=True)[brain_name] \n",
    "        states = env_info.vector_observations\n",
    "        agent.reset()\n",
    "        score = np.zeros(num_agents)\n",
    "        \n",
    "        # Iterate over timesteps\n",
    "        for t in range(max_time):\n",
    "            actions = agent.act(states)\n",
    "            # send all actions to the environment\n",
    "            env_info = env.step(actions)[brain_name]\n",
    "            # get next state (for each agent)\n",
    "            next_states = env_info.vector_observations\n",
    "            # get reward (for each agent)\n",
    "            rewards = env_info.rewards\n",
    "            # see if episode finished\n",
    "            dones = env_info.local_done\n",
    "            \n",
    "            # Add Trajectory's\n",
    "            for state, action, reward, next_state, done in zip(states, actions, rewards, next_states, dones):\n",
    "                agent.step(state, action, reward, next_state, done, t)\n",
    "            \n",
    "            # Defining next States and rewards     \n",
    "            states = next_states\n",
    "            score += rewards\n",
    "            if np.any(dones):\n",
    "                break \n",
    "                       \n",
    "        \n",
    "        # Append Scores\n",
    "        scores_deque.append(np.mean(score))\n",
    "        scores.append(np.mean(score))  \n",
    "        \n",
    "        # Print Means each episode\n",
    "        print('\\rEpisode: {}  Mean_Score for all Agents: {:.2f}  Mean_Score_over_deque: {:.2f}'.format(ep, np.mean(score), np.mean(scores_deque)))  \n",
    "        # Print Calculation Time each 5 Episode\n",
    "        if ep % 5==0:\n",
    "            time_end=round((time.time()-time_start)/60) \n",
    "            print('Time of Calucation: {} Minutes'.format(time_end))\n",
    "            \n",
    "        # Defining rubric-conditions: mean_score (over deque) over 30 in minimum of 100 episodes\n",
    "        if np.mean(scores_deque) >= 30 and ep>100:\n",
    "            print('\\nEnvironment solved in {} episodes with a mean score of {} - Finally :-) !'.format(ep, np.mean(scores_deque)))\n",
    "            torch.save(agent.actor_local.state_dict(), 'actor_checkpoint.pth')\n",
    "            torch.save(agent.critic_local.state_dict(), 'critic_checkpoint.pth')\n",
    "            break\n",
    "            \n",
    "    return scores"
   ]
  },
  {
   "cell_type": "code",
   "execution_count": 5,
   "metadata": {
    "scrolled": false
   },
   "outputs": [
    {
     "name": "stdout",
     "output_type": "stream",
     "text": [
      "Episode: 1  Mean_Score for all Agents: 0.73  Mean_Score_over_deque: 0.73\n",
      "Episode: 2  Mean_Score for all Agents: 1.62  Mean_Score_over_deque: 1.17\n",
      "Episode: 3  Mean_Score for all Agents: 2.95  Mean_Score_over_deque: 1.77\n",
      "Episode: 4  Mean_Score for all Agents: 3.44  Mean_Score_over_deque: 2.19\n",
      "Episode: 5  Mean_Score for all Agents: 3.24  Mean_Score_over_deque: 2.40\n",
      "Time of Calucation: 10 Minutes\n",
      "Episode: 6  Mean_Score for all Agents: 4.21  Mean_Score_over_deque: 2.70\n",
      "Episode: 7  Mean_Score for all Agents: 4.24  Mean_Score_over_deque: 2.92\n",
      "Episode: 8  Mean_Score for all Agents: 5.49  Mean_Score_over_deque: 3.24\n",
      "Episode: 9  Mean_Score for all Agents: 6.62  Mean_Score_over_deque: 3.62\n",
      "Episode: 10  Mean_Score for all Agents: 9.00  Mean_Score_over_deque: 4.16\n",
      "Time of Calucation: 21 Minutes\n",
      "Episode: 11  Mean_Score for all Agents: 9.00  Mean_Score_over_deque: 4.60\n",
      "Episode: 12  Mean_Score for all Agents: 9.56  Mean_Score_over_deque: 5.01\n",
      "Episode: 13  Mean_Score for all Agents: 11.11  Mean_Score_over_deque: 5.48\n",
      "Episode: 14  Mean_Score for all Agents: 16.01  Mean_Score_over_deque: 6.23\n",
      "Episode: 15  Mean_Score for all Agents: 18.56  Mean_Score_over_deque: 7.05\n",
      "Time of Calucation: 32 Minutes\n",
      "Episode: 16  Mean_Score for all Agents: 21.93  Mean_Score_over_deque: 7.98\n",
      "Episode: 17  Mean_Score for all Agents: 24.79  Mean_Score_over_deque: 8.97\n",
      "Episode: 18  Mean_Score for all Agents: 28.17  Mean_Score_over_deque: 10.04\n",
      "Episode: 19  Mean_Score for all Agents: 30.39  Mean_Score_over_deque: 11.11\n",
      "Episode: 20  Mean_Score for all Agents: 29.03  Mean_Score_over_deque: 12.00\n",
      "Time of Calucation: 44 Minutes\n",
      "Episode: 21  Mean_Score for all Agents: 33.82  Mean_Score_over_deque: 13.04\n",
      "Episode: 22  Mean_Score for all Agents: 34.12  Mean_Score_over_deque: 14.00\n",
      "Episode: 23  Mean_Score for all Agents: 33.86  Mean_Score_over_deque: 14.87\n",
      "Episode: 24  Mean_Score for all Agents: 33.32  Mean_Score_over_deque: 15.63\n",
      "Episode: 25  Mean_Score for all Agents: 33.61  Mean_Score_over_deque: 16.35\n",
      "Time of Calucation: 57 Minutes\n",
      "Episode: 26  Mean_Score for all Agents: 35.45  Mean_Score_over_deque: 17.09\n",
      "Episode: 27  Mean_Score for all Agents: 35.80  Mean_Score_over_deque: 17.78\n",
      "Episode: 28  Mean_Score for all Agents: 36.07  Mean_Score_over_deque: 18.43\n",
      "Episode: 29  Mean_Score for all Agents: 35.27  Mean_Score_over_deque: 19.01\n",
      "Episode: 30  Mean_Score for all Agents: 34.34  Mean_Score_over_deque: 19.53\n",
      "Time of Calucation: 71 Minutes\n",
      "Episode: 31  Mean_Score for all Agents: 34.90  Mean_Score_over_deque: 20.02\n",
      "Episode: 32  Mean_Score for all Agents: 35.96  Mean_Score_over_deque: 20.52\n",
      "Episode: 33  Mean_Score for all Agents: 37.57  Mean_Score_over_deque: 21.04\n",
      "Episode: 34  Mean_Score for all Agents: 37.02  Mean_Score_over_deque: 21.51\n",
      "Episode: 35  Mean_Score for all Agents: 36.51  Mean_Score_over_deque: 21.93\n",
      "Time of Calucation: 85 Minutes\n",
      "Episode: 36  Mean_Score for all Agents: 35.96  Mean_Score_over_deque: 22.32\n",
      "Episode: 37  Mean_Score for all Agents: 36.59  Mean_Score_over_deque: 22.71\n",
      "Episode: 38  Mean_Score for all Agents: 36.13  Mean_Score_over_deque: 23.06\n",
      "Episode: 39  Mean_Score for all Agents: 36.84  Mean_Score_over_deque: 23.42\n",
      "Episode: 40  Mean_Score for all Agents: 36.88  Mean_Score_over_deque: 23.75\n",
      "Time of Calucation: 101 Minutes\n",
      "Episode: 41  Mean_Score for all Agents: 37.89  Mean_Score_over_deque: 24.10\n",
      "Episode: 42  Mean_Score for all Agents: 37.14  Mean_Score_over_deque: 24.41\n",
      "Episode: 43  Mean_Score for all Agents: 37.83  Mean_Score_over_deque: 24.72\n",
      "Episode: 44  Mean_Score for all Agents: 36.97  Mean_Score_over_deque: 25.00\n",
      "Episode: 45  Mean_Score for all Agents: 37.32  Mean_Score_over_deque: 25.27\n",
      "Time of Calucation: 118 Minutes\n",
      "Episode: 46  Mean_Score for all Agents: 37.23  Mean_Score_over_deque: 25.53\n",
      "Episode: 47  Mean_Score for all Agents: 37.71  Mean_Score_over_deque: 25.79\n",
      "Episode: 48  Mean_Score for all Agents: 37.05  Mean_Score_over_deque: 26.03\n",
      "Episode: 49  Mean_Score for all Agents: 38.14  Mean_Score_over_deque: 26.27\n",
      "Episode: 50  Mean_Score for all Agents: 36.87  Mean_Score_over_deque: 26.49\n",
      "Time of Calucation: 136 Minutes\n",
      "Episode: 51  Mean_Score for all Agents: 36.45  Mean_Score_over_deque: 26.68\n",
      "Episode: 52  Mean_Score for all Agents: 37.86  Mean_Score_over_deque: 26.90\n",
      "Episode: 53  Mean_Score for all Agents: 35.75  Mean_Score_over_deque: 27.06\n",
      "Episode: 54  Mean_Score for all Agents: 32.76  Mean_Score_over_deque: 27.17\n",
      "Episode: 55  Mean_Score for all Agents: 23.20  Mean_Score_over_deque: 27.10\n",
      "Time of Calucation: 155 Minutes\n",
      "Episode: 56  Mean_Score for all Agents: 19.29  Mean_Score_over_deque: 26.96\n",
      "Episode: 57  Mean_Score for all Agents: 16.40  Mean_Score_over_deque: 26.77\n",
      "Episode: 58  Mean_Score for all Agents: 17.88  Mean_Score_over_deque: 26.62\n",
      "Episode: 59  Mean_Score for all Agents: 18.46  Mean_Score_over_deque: 26.48\n",
      "Episode: 60  Mean_Score for all Agents: 15.93  Mean_Score_over_deque: 26.30\n",
      "Time of Calucation: 173 Minutes\n",
      "Episode: 61  Mean_Score for all Agents: 15.06  Mean_Score_over_deque: 26.12\n",
      "Episode: 62  Mean_Score for all Agents: 17.11  Mean_Score_over_deque: 25.97\n",
      "Episode: 63  Mean_Score for all Agents: 23.92  Mean_Score_over_deque: 25.94\n",
      "Episode: 64  Mean_Score for all Agents: 23.36  Mean_Score_over_deque: 25.90\n",
      "Episode: 65  Mean_Score for all Agents: 24.13  Mean_Score_over_deque: 25.87\n",
      "Time of Calucation: 192 Minutes\n",
      "Episode: 66  Mean_Score for all Agents: 27.66  Mean_Score_over_deque: 25.90\n",
      "Episode: 67  Mean_Score for all Agents: 32.91  Mean_Score_over_deque: 26.01\n",
      "Episode: 68  Mean_Score for all Agents: 29.27  Mean_Score_over_deque: 26.05\n",
      "Episode: 69  Mean_Score for all Agents: 23.41  Mean_Score_over_deque: 26.02\n",
      "Episode: 70  Mean_Score for all Agents: 29.03  Mean_Score_over_deque: 26.06\n",
      "Time of Calucation: 210 Minutes\n",
      "Episode: 71  Mean_Score for all Agents: 28.15  Mean_Score_over_deque: 26.09\n",
      "Episode: 72  Mean_Score for all Agents: 31.89  Mean_Score_over_deque: 26.17\n",
      "Episode: 73  Mean_Score for all Agents: 34.06  Mean_Score_over_deque: 26.28\n",
      "Episode: 74  Mean_Score for all Agents: 35.56  Mean_Score_over_deque: 26.40\n",
      "Episode: 75  Mean_Score for all Agents: 34.40  Mean_Score_over_deque: 26.51\n",
      "Time of Calucation: 229 Minutes\n",
      "Episode: 76  Mean_Score for all Agents: 33.35  Mean_Score_over_deque: 26.60\n",
      "Episode: 77  Mean_Score for all Agents: 33.29  Mean_Score_over_deque: 26.69\n",
      "Episode: 78  Mean_Score for all Agents: 35.82  Mean_Score_over_deque: 26.80\n",
      "Episode: 79  Mean_Score for all Agents: 37.29  Mean_Score_over_deque: 26.94\n",
      "Episode: 80  Mean_Score for all Agents: 36.34  Mean_Score_over_deque: 27.05\n",
      "Time of Calucation: 248 Minutes\n",
      "Episode: 81  Mean_Score for all Agents: 37.23  Mean_Score_over_deque: 27.18\n",
      "Episode: 82  Mean_Score for all Agents: 35.12  Mean_Score_over_deque: 27.28\n",
      "Episode: 83  Mean_Score for all Agents: 35.65  Mean_Score_over_deque: 27.38\n",
      "Episode: 84  Mean_Score for all Agents: 38.49  Mean_Score_over_deque: 27.51\n",
      "Episode: 85  Mean_Score for all Agents: 38.79  Mean_Score_over_deque: 27.64\n",
      "Time of Calucation: 267 Minutes\n",
      "Episode: 86  Mean_Score for all Agents: 39.01  Mean_Score_over_deque: 27.77\n",
      "Episode: 87  Mean_Score for all Agents: 39.20  Mean_Score_over_deque: 27.91\n",
      "Episode: 88  Mean_Score for all Agents: 38.59  Mean_Score_over_deque: 28.03\n",
      "Episode: 89  Mean_Score for all Agents: 38.31  Mean_Score_over_deque: 28.14\n",
      "Episode: 90  Mean_Score for all Agents: 38.89  Mean_Score_over_deque: 28.26\n",
      "Time of Calucation: 286 Minutes\n",
      "Episode: 91  Mean_Score for all Agents: 37.90  Mean_Score_over_deque: 28.37\n",
      "Episode: 92  Mean_Score for all Agents: 38.68  Mean_Score_over_deque: 28.48\n",
      "Episode: 93  Mean_Score for all Agents: 38.83  Mean_Score_over_deque: 28.59\n",
      "Episode: 94  Mean_Score for all Agents: 39.21  Mean_Score_over_deque: 28.70\n",
      "Episode: 95  Mean_Score for all Agents: 39.35  Mean_Score_over_deque: 28.82\n",
      "Time of Calucation: 304 Minutes\n",
      "Episode: 96  Mean_Score for all Agents: 39.00  Mean_Score_over_deque: 28.92\n",
      "Episode: 97  Mean_Score for all Agents: 39.18  Mean_Score_over_deque: 29.03\n",
      "Episode: 98  Mean_Score for all Agents: 39.37  Mean_Score_over_deque: 29.13\n",
      "Episode: 99  Mean_Score for all Agents: 39.26  Mean_Score_over_deque: 29.24\n",
      "Episode: 100  Mean_Score for all Agents: 38.77  Mean_Score_over_deque: 29.33\n",
      "Time of Calucation: 322 Minutes\n",
      "Episode: 101  Mean_Score for all Agents: 39.19  Mean_Score_over_deque: 29.72\n",
      "Episode: 102  Mean_Score for all Agents: 38.50  Mean_Score_over_deque: 30.08\n",
      "\n",
      "Environment solved in 102 episodes with a mean score of 30.084264327564277 - Finally :-) !\n"
     ]
    }
   ],
   "source": [
    "scores = ddpg_agent()"
   ]
  },
  {
   "cell_type": "code",
   "execution_count": 55,
   "metadata": {},
   "outputs": [
    {
     "data": {
      "text/plain": [
       "<matplotlib.legend.Legend at 0x7f13fae49208>"
      ]
     },
     "execution_count": 55,
     "metadata": {},
     "output_type": "execute_result"
    },
    {
     "data": {
      "image/png": "[encoded data removed]",
      "text/plain": [
       "<matplotlib.figure.Figure at 0x7f13fae07588>"
      ]
     },
     "metadata": {
      "needs_background": "light"
     },
     "output_type": "display_data"
    }
   ],
   "source": [
    "score_df=pd.DataFrame(scores,columns=['Mean Scores'])\n",
    "\n",
    "plt.figure(figsize=(20,10))\n",
    "plt.title('Scores of DDPG for Reacher',size=15)\n",
    "plt.axhline(y=30., xmin=0.0, color='g', linestyle='dashdot', linewidth=2.0, label='Threshold')\n",
    "plt.plot(score_df['Mean Scores'], label='Score')\n",
    "plt.plot(score_df['Mean Scores'].iloc[2:].expanding().mean(),label='Mean over 100 Episodes')\n",
    "plt.ylabel('Score')\n",
    "plt.xlabel('Number of Episodes')\n",
    "plt.legend(loc='lower right', fontsize=10)"
   ]
  },
  {
   "cell_type": "code",
   "execution_count": 54,
   "metadata": {},
   "outputs": [],
   "source": [
    "# Saving Results \n",
    "score_df.to_csv('score.csv',sep=';')"
   ]
  },
  {
   "cell_type": "code",
   "execution_count": 6,
   "metadata": {},
   "outputs": [],
   "source": [
    "env.close()"
   ]
  }
 ],
 "metadata": {
  "kernelspec": {
   "display_name": "Python 3",
   "language": "python",
   "name": "python3"
  },
  "language_info": {
   "codemirror_mode": {
    "name": "ipython",
    "version": 3
   },
   "file_extension": ".py",
   "mimetype": "text/x-python",
   "name": "python",
   "nbconvert_exporter": "python",
   "pygments_lexer": "ipython3",
   "version": "3.6.3"
  }
 },
 "nbformat": 4,
 "nbformat_minor": 2
}
